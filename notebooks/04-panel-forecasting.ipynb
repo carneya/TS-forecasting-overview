{
 "cells": [
  {
   "cell_type": "code",
   "execution_count": 1,
   "metadata": {},
   "outputs": [],
   "source": [
    "%load_ext autoreload\n",
    "%autoreload 2"
   ]
  },
  {
   "cell_type": "code",
   "execution_count": 2,
   "metadata": {},
   "outputs": [],
   "source": [
    "import sys\n",
    "import os\n",
    "\n",
    "import numpy as np\n",
    "import pandas as pd\n",
    "from matplotlib import pyplot as plt\n",
    "from pprint import pprint\n",
    "\n",
    "# time series specific\n",
    "from sktime.forecasting.naive import NaiveForecaster\n",
    "from sktime.forecasting.ets import AutoETS\n",
    "from sktime.utils.plotting import plot_series\n",
    "from sktime.forecasting.model_selection import (\n",
    "    ExpandingWindowSplitter,\n",
    "    ForecastingGridSearchCV,\n",
    "    SlidingWindowSplitter,\n",
    "    CutoffSplitter,\n",
    ")\n",
    "from sktime.forecasting.model_evaluation import evaluate\n",
    "from sktime.performance_metrics.forecasting import MeanSquaredScaledError\n",
    "\n",
    "from dsf_utils.preprocessing import process_raw_data, single_region_ts\n",
    "from dsf_utils.evaluation import evaluate_forecasters_on_cutoffs, display_results\n",
    "from dsf_utils.plotting import plot_cv_results\n",
    "# custom model from:\n",
    "# https://www.sktime.org/en/latest/developer_guide/add_estimators\n",
    "from dsf_utils.models import ConstantValueForecaster\n",
    "\n",
    "# warnings\n",
    "import warnings\n",
    "warnings.filterwarnings('ignore')\n",
    "\n",
    "plt.rcParams.update({'figure.figsize': (20,10)})\n",
    "# set the numpy seed\n",
    "np.random.seed(99)"
   ]
  },
  {
   "cell_type": "markdown",
   "metadata": {},
   "source": [
    "# Data"
   ]
  },
  {
   "cell_type": "code",
   "execution_count": 29,
   "metadata": {},
   "outputs": [
    {
     "data": {
      "text/html": [
       "<div>\n",
       "<style scoped>\n",
       "    .dataframe tbody tr th:only-of-type {\n",
       "        vertical-align: middle;\n",
       "    }\n",
       "\n",
       "    .dataframe tbody tr th {\n",
       "        vertical-align: top;\n",
       "    }\n",
       "\n",
       "    .dataframe thead th {\n",
       "        text-align: right;\n",
       "    }\n",
       "</style>\n",
       "<table border=\"1\" class=\"dataframe\">\n",
       "  <thead>\n",
       "    <tr style=\"text-align: right;\">\n",
       "      <th></th>\n",
       "      <th>REGION</th>\n",
       "      <th>YEAR</th>\n",
       "      <th>WEEK</th>\n",
       "      <th>ILITOTAL</th>\n",
       "    </tr>\n",
       "    <tr>\n",
       "      <th>ds_wsun</th>\n",
       "      <th></th>\n",
       "      <th></th>\n",
       "      <th></th>\n",
       "      <th></th>\n",
       "    </tr>\n",
       "  </thead>\n",
       "  <tbody>\n",
       "    <tr>\n",
       "      <th>2013-12-30/2014-01-05</th>\n",
       "      <td>Alabama</td>\n",
       "      <td>2014</td>\n",
       "      <td>1</td>\n",
       "      <td>808.0</td>\n",
       "    </tr>\n",
       "    <tr>\n",
       "      <th>2013-12-30/2014-01-05</th>\n",
       "      <td>Alaska</td>\n",
       "      <td>2014</td>\n",
       "      <td>1</td>\n",
       "      <td>78.0</td>\n",
       "    </tr>\n",
       "    <tr>\n",
       "      <th>2013-12-30/2014-01-05</th>\n",
       "      <td>Arizona</td>\n",
       "      <td>2014</td>\n",
       "      <td>1</td>\n",
       "      <td>470.0</td>\n",
       "    </tr>\n",
       "    <tr>\n",
       "      <th>2013-12-30/2014-01-05</th>\n",
       "      <td>Arkansas</td>\n",
       "      <td>2014</td>\n",
       "      <td>1</td>\n",
       "      <td>197.0</td>\n",
       "    </tr>\n",
       "    <tr>\n",
       "      <th>2013-12-30/2014-01-05</th>\n",
       "      <td>California</td>\n",
       "      <td>2014</td>\n",
       "      <td>1</td>\n",
       "      <td>1397.0</td>\n",
       "    </tr>\n",
       "  </tbody>\n",
       "</table>\n",
       "</div>"
      ],
      "text/plain": [
       "                           REGION  YEAR  WEEK  ILITOTAL\n",
       "ds_wsun                                                \n",
       "2013-12-30/2014-01-05     Alabama  2014     1     808.0\n",
       "2013-12-30/2014-01-05      Alaska  2014     1      78.0\n",
       "2013-12-30/2014-01-05     Arizona  2014     1     470.0\n",
       "2013-12-30/2014-01-05    Arkansas  2014     1     197.0\n",
       "2013-12-30/2014-01-05  California  2014     1    1397.0"
      ]
     },
     "metadata": {},
     "output_type": "display_data"
    }
   ],
   "source": [
    "# All the time series\n",
    "main_df = pd.read_csv(\"../DATA/ILINet.csv\", na_values=\"X\")\n",
    "main_df = process_raw_data(main_df)\n",
    "cali_ts = single_region_ts(main_df, region=\"California\")\n",
    "main_df = main_df.drop(\n",
    "    columns=[\n",
    "        \"% WEIGHTED ILI\", \n",
    "        \"%UNWEIGHTED ILI\", \n",
    "        \"NUM. OF PROVIDERS\", \n",
    "        \"TOTAL PATIENTS\"\n",
    "    ]\n",
    ")\n",
    "# Set to period index\n",
    "main_df = main_df.set_index(\"ds_wsun\").to_period(\"W-SUN\")\n",
    "display(main_df.head())"
   ]
  },
  {
   "cell_type": "markdown",
   "metadata": {},
   "source": [
    "## Cutoffs"
   ]
  },
  {
   "cell_type": "code",
   "execution_count": 62,
   "metadata": {},
   "outputs": [],
   "source": [
    "custom_cutoffs = [\n",
    "    # off-season\n",
    "    \"2018-07-01\", \n",
    "    \"2019-07-01\", \n",
    "    # season start\n",
    "    \"2018-10-01\", \n",
    "    \"2019-10-01\", \n",
    "    # season peak\n",
    "    \"2018-12-15\", \n",
    "    \"2019-11-24\", \n",
    "    # season end\n",
    "    \"2019-04-01\", \n",
    "    \"2019-05-01\"\n",
    "]"
   ]
  },
  {
   "cell_type": "markdown",
   "metadata": {},
   "source": [
    "# Panel Forecasting"
   ]
  },
  {
   "cell_type": "markdown",
   "metadata": {},
   "source": [
    "We now need to slightly step away from the beautiful world (or API) of sktime and go a bit wild.  \n",
    "Worry not though panel and global forecasting are coming in sktime soon! "
   ]
  },
  {
   "cell_type": "code",
   "execution_count": 63,
   "metadata": {},
   "outputs": [
    {
     "data": {
      "image/png": "[encoded data removed]",
      "text/plain": [
       "<Figure size 1152x288 with 1 Axes>"
      ]
     },
     "metadata": {
      "needs_background": "light"
     },
     "output_type": "display_data"
    }
   ],
   "source": [
    "from copy import deepcopy\n",
    "\n",
    "region_model_dict = {}\n",
    "forecaster = NaiveForecaster(sp=1)\n",
    "\n",
    "for ts_id, ts in main_df.groupby(\"REGION\"):\n",
    "    ts = (ts\n",
    "        [\"ILITOTAL\"]\n",
    "        .sort_index()\n",
    "    )\n",
    "    region_model_dict[ts_id] = deepcopy(forecaster)\n",
    "    region_model_dict[ts_id].fit(ts)\n",
    "    \n",
    "plot_series(cali_ts, region_model_dict[\"California\"].predict(fh=np.arange(50)+1))\n",
    "plt.show()"
   ]
  },
  {
   "cell_type": "markdown",
   "metadata": {},
   "source": [
    "## Approach #1: One sktime forecaster per region"
   ]
  },
  {
   "cell_type": "code",
   "execution_count": 75,
   "metadata": {},
   "outputs": [
    {
     "name": "stdout",
     "output_type": "stream",
     "text": [
      "Mean RMSSE across all series and all cutoffs is  1.23\n"
     ]
    },
    {
     "data": {
      "application/vnd.jupyter.widget-view+json": {
       "model_id": "6804b5a6edce426298592400fe83b2b9",
       "version_major": 2,
       "version_minor": 0
      },
      "text/plain": [
       "interactive(children=(Dropdown(description='region', index=4, options=('Alabama', 'Alaska', 'Arizona', 'Arkans…"
      ]
     },
     "metadata": {},
     "output_type": "display_data"
    }
   ],
   "source": [
    "from dsf_utils.models import SktimePanelForecaster\n",
    "from dsf_utils.plotting import plot_interactive_panel_series\n",
    "\n",
    "panel_forecaster = SktimePanelForecaster(\n",
    "    forecaster=NaiveForecaster, \n",
    "    forecaster_kwargs={\"sp\": 1}\n",
    ")\n",
    "panel_forecaster.fit(main_df)\n",
    "pred_df = panel_forecaster.predict(fh=np.arange(3)+1)\n",
    "plot_interactive_panel_series(main_df, pred_df)"
   ]
  },
  {
   "cell_type": "code",
   "execution_count": 76,
   "metadata": {
    "scrolled": false
   },
   "outputs": [
    {
     "name": "stdout",
     "output_type": "stream",
     "text": [
      "Mean RMSSE across all series and all cutoffs is  1.23\n"
     ]
    },
    {
     "data": {
      "application/vnd.jupyter.widget-view+json": {
       "model_id": "9e898213b85047eda1b21ef6aacb3980",
       "version_major": 2,
       "version_minor": 0
      },
      "text/plain": [
       "interactive(children=(Dropdown(description='region', index=4, options=('Alabama', 'Alaska', 'Arizona', 'Arkans…"
      ]
     },
     "metadata": {},
     "output_type": "display_data"
    }
   ],
   "source": [
    "from dsf_utils.evaluation import evaluate_panel_forecaster_on_cutoffs\n",
    "from dsf_utils.plotting import plot_interactive_panel_cv_results\n",
    "\n",
    "df = evaluate_panel_forecaster_on_cutoffs(\n",
    "    main_df,\n",
    "    custom_cutoffs,\n",
    "    SktimePanelForecaster(forecaster=NaiveForecaster, forecaster_kwargs={\"sp\": 1}),\n",
    "    metric = MeanSquaredScaledError(square_root=True),\n",
    ")\n",
    "mean_rmsse = df[\"Score\"].mean()\n",
    "print(f\"Mean RMSSE across all series and all cutoffs is {mean_rmsse: 0.2f}\")\n",
    "plot_interactive_panel_cv_results(main_df, df)"
   ]
  },
  {
   "cell_type": "code",
   "execution_count": 78,
   "metadata": {},
   "outputs": [
    {
     "name": "stdout",
     "output_type": "stream",
     "text": [
      "Mean RMSSE across all series and all cutoffs is  1.16\n"
     ]
    },
    {
     "data": {
      "application/vnd.jupyter.widget-view+json": {
       "model_id": "ad98d3d850e644f2bd5828b9a13d9723",
       "version_major": 2,
       "version_minor": 0
      },
      "text/plain": [
       "interactive(children=(Dropdown(description='region', index=4, options=('Alabama', 'Alaska', 'Arizona', 'Arkans…"
      ]
     },
     "metadata": {},
     "output_type": "display_data"
    }
   ],
   "source": [
    "from sktime.forecasting.tbats import TBATS\n",
    "df = evaluate_panel_forecaster_on_cutoffs(\n",
    "    main_df,\n",
    "    custom_cutoffs,\n",
    "    SktimePanelForecaster(forecaster=TBATS, forecaster_kwargs={\"sp\": 52}),\n",
    "    metric = MeanSquaredScaledError(square_root=True),\n",
    ")\n",
    "mean_rmsse = df[\"Score\"].mean()\n",
    "print(f\"Mean RMSSE across all series and all cutoffs is {mean_rmsse: 0.2f}\")\n",
    "plot_interactive_panel_cv_results(main_df, df)"
   ]
  },
  {
   "cell_type": "markdown",
   "metadata": {},
   "source": [
    "## Approach #2: Global Forecasting Algorithms"
   ]
  },
  {
   "cell_type": "code",
   "execution_count": 80,
   "metadata": {},
   "outputs": [
    {
     "name": "stdout",
     "output_type": "stream",
     "text": [
      "Mean RMSSE across all series and all cutoffs is  1.00\n"
     ]
    },
    {
     "data": {
      "application/vnd.jupyter.widget-view+json": {
       "model_id": "273aeb007c174b75b2b236ac6d4e69d6",
       "version_major": 2,
       "version_minor": 0
      },
      "text/plain": [
       "interactive(children=(Dropdown(description='region', index=4, options=('Alabama', 'Alaska', 'Arizona', 'Arkans…"
      ]
     },
     "metadata": {},
     "output_type": "display_data"
    }
   ],
   "source": [
    "from dsf_utils.models import DirectLGBMGlobalForecaster\n",
    "\n",
    "model = DirectLGBMGlobalForecaster(\n",
    "    calendar_features={\"week\": True, \"year\": False, \"t\": False}\n",
    ")\n",
    "\n",
    "df = evaluate_panel_forecaster_on_cutoffs(\n",
    "    main_df,\n",
    "    custom_cutoffs,\n",
    "    model,\n",
    "    metric = MeanSquaredScaledError(square_root=True),\n",
    ")\n",
    "mean_rmsse = df[\"Score\"].mean()\n",
    "print(f\"Mean RMSSE across all series and all cutoffs is {mean_rmsse: 0.2f}\")\n",
    "plot_interactive_panel_cv_results(main_df, df)"
   ]
  },
  {
   "cell_type": "code",
   "execution_count": null,
   "metadata": {},
   "outputs": [],
   "source": []
  }
 ],
 "metadata": {
  "kernelspec": {
   "display_name": "dsf_conda",
   "language": "python",
   "name": "dsf_conda"
  },
  "language_info": {
   "codemirror_mode": {
    "name": "ipython",
    "version": 3
   },
   "file_extension": ".py",
   "mimetype": "text/x-python",
   "name": "python",
   "nbconvert_exporter": "python",
   "pygments_lexer": "ipython3",
   "version": "3.9.7"
  }
 },
 "nbformat": 4,
 "nbformat_minor": 4
}
